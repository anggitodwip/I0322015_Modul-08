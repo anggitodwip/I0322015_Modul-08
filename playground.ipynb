{
 "cells": [
  {
   "attachments": {},
   "cell_type": "markdown",
   "metadata": {},
   "source": [
    "# File"
   ]
  },
  {
   "attachments": {},
   "cell_type": "markdown",
   "metadata": {},
   "source": [
    "### Objek File\n",
    "Berikut merupakan contoh program untuk memanggil file dengan mode \"r\""
   ]
  },
  {
   "cell_type": "code",
   "execution_count": null,
   "metadata": {},
   "outputs": [],
   "source": [
    "obj_file = open(\"\\path\\Modul_08\\Biodata.txt\",\"r\") ##Lokasi disesuiakan dengan lokasi penyimpananan file pada device praktikan"
   ]
  },
  {
   "attachments": {},
   "cell_type": "markdown",
   "metadata": {},
   "source": [
    "### readlines\n",
    "Perintah di bawah ini akan menampilkan file dengan format list"
   ]
  },
  {
   "cell_type": "code",
   "execution_count": 2,
   "metadata": {},
   "outputs": [
    {
     "name": "stdout",
     "output_type": "stream",
     "text": [
      "['Nama: #N/A\\n', 'Umur: #N/A\\n', 'Alamat: #N/A']\n",
      "<class 'list'>\n"
     ]
    }
   ],
   "source": [
    "# buka file\n",
    "file_biodata = open(\"Biodata.txt\",\"r\")\n",
    "\n",
    "# baca isi file\n",
    "print(file_biodata.readlines())\n",
    "print(type(file_biodata.readlines()))\n",
    "\n",
    "# tutup file\n",
    "file_biodata.close()"
   ]
  },
  {
   "attachments": {},
   "cell_type": "markdown",
   "metadata": {},
   "source": [
    "### read\n",
    "Perintah di bawah ini akan menampilkan file dengan format text"
   ]
  },
  {
   "cell_type": "code",
   "execution_count": 4,
   "metadata": {},
   "outputs": [
    {
     "name": "stdout",
     "output_type": "stream",
     "text": [
      "Nama: #N/A\n",
      "Umur: #N/A\n",
      "Alamat: #N/A\n",
      "<class 'str'>\n"
     ]
    }
   ],
   "source": [
    "# buka file\n",
    "file_biodata = open(\"Biodata.txt\",\"r\")\n",
    "# baca isi file\n",
    "print(file_biodata.read())\n",
    "print(type(file_biodata.read()))\n",
    "\n",
    "# tutup file\n",
    "file_biodata.close()"
   ]
  },
  {
   "attachments": {},
   "cell_type": "markdown",
   "metadata": {},
   "source": [
    "### write\n",
    "Perintah di bawah ini merupakah akses untuk menulis ulang dari file yang ada"
   ]
  },
  {
   "cell_type": "code",
   "execution_count": 5,
   "metadata": {},
   "outputs": [
    {
     "name": "stdout",
     "output_type": "stream",
     "text": [
      "Selamat Datang di Program Biodata\n",
      "---------------------------------\n",
      "Data anda berhasil ditulis\n"
     ]
    }
   ],
   "source": [
    "print(\"Selamat Datang di Program Biodata\")\n",
    "print(\"---------------------------------\")\n",
    "\n",
    "# Mengambil input dari user\n",
    "nama = input(\"Nama: \")\n",
    "umur = input(\"Umur: \")\n",
    "alamat = input(\"Alamat: \")\n",
    "\n",
    "# Format teks\n",
    "teks = \"Nama: {}\\nUmur: {}\\nAlamat: {}\".format(nama,umur,alamat)\n",
    "\n",
    "# Buka file untuk ditulis\n",
    "file_biodata = open(\"Biodata.txt\",\"w\")\n",
    "\n",
    "# Tulis teks ke file\n",
    "file_biodata.write(teks)\n",
    "\n",
    "#tutup file\n",
    "file_biodata.close()\n",
    "\n",
    "print(\"Data anda berhasil ditulis\")"
   ]
  },
  {
   "attachments": {},
   "cell_type": "markdown",
   "metadata": {},
   "source": [
    "### append\n",
    "Perintah di bawah ini merupakah akses untuk menambahkan text dari file yang ada"
   ]
  },
  {
   "cell_type": "code",
   "execution_count": 7,
   "metadata": {},
   "outputs": [
    {
     "name": "stdout",
     "output_type": "stream",
     "text": [
      "Selamat Datang di Program Biodata\n",
      "---------------------------------\n",
      "Data anda berhasil ditambahkan\n"
     ]
    }
   ],
   "source": [
    "print(\"Selamat Datang di Program Biodata\")\n",
    "print(\"---------------------------------\")\n",
    "\n",
    "# Mengambil input dari user\n",
    "nama = input(\"Nama: \")\n",
    "umur = input(\"Umur: \")\n",
    "alamat = input(\"Alamat: \")\n",
    "\n",
    "# Format teks\n",
    "teks = \"\\n\\nNama: {}\\nUmur: {}\\nAlamat: {}\".format(nama,umur,alamat)\n",
    "\n",
    "# Buka file untuk ditambahkan\n",
    "file_biodata = open(\"Biodata.txt\",\"a\")\n",
    "\n",
    "# Tulis teks ke file\n",
    "file_biodata.write(teks)\n",
    "\n",
    "#tutup file\n",
    "file_biodata.close()\n",
    "\n",
    "print(\"Data anda berhasil ditambahkan\")"
   ]
  },
  {
   "attachments": {},
   "cell_type": "markdown",
   "metadata": {},
   "source": [
    "# Direktori "
   ]
  },
  {
   "attachments": {},
   "cell_type": "markdown",
   "metadata": {},
   "source": [
    "### Membuat Direktori\n",
    "Berikut merupakan perintah untuk membuat direktori baru"
   ]
  },
  {
   "cell_type": "code",
   "execution_count": 11,
   "metadata": {},
   "outputs": [
    {
     "ename": "FileExistsError",
     "evalue": "[WinError 183] Cannot create a file when that file already exists: 'modul_08'",
     "output_type": "error",
     "traceback": [
      "\u001b[1;31m---------------------------------------------------------------------------\u001b[0m",
      "\u001b[1;31mFileExistsError\u001b[0m                           Traceback (most recent call last)",
      "Cell \u001b[1;32mIn[11], line 7\u001b[0m\n\u001b[0;32m      4\u001b[0m     os\u001b[39m.\u001b[39mmkdir(\u001b[39m\"\u001b[39m\u001b[39mmodul_08\u001b[39m\u001b[39m\"\u001b[39m)\n\u001b[0;32m      6\u001b[0m ifname:\u001b[39m\"\u001b[39m\u001b[39mmain\u001b[39m\u001b[39m\"\u001b[39m\n\u001b[1;32m----> 7\u001b[0m main()\n",
      "Cell \u001b[1;32mIn[11], line 4\u001b[0m, in \u001b[0;36mmain\u001b[1;34m()\u001b[0m\n\u001b[0;32m      3\u001b[0m \u001b[39mdef\u001b[39;00m \u001b[39mmain\u001b[39m():\n\u001b[1;32m----> 4\u001b[0m     os\u001b[39m.\u001b[39;49mmkdir(\u001b[39m\"\u001b[39;49m\u001b[39mmodul_08\u001b[39;49m\u001b[39m\"\u001b[39;49m)\n",
      "\u001b[1;31mFileExistsError\u001b[0m: [WinError 183] Cannot create a file when that file already exists: 'modul_08'"
     ]
    }
   ],
   "source": [
    "import os\n",
    "\n",
    "def main():\n",
    "    os.mkdir(\"modul_08\")\n",
    "\n",
    "ifname:\"main\"\n",
    "main()"
   ]
  },
  {
   "attachments": {},
   "cell_type": "markdown",
   "metadata": {},
   "source": [
    "### Merubah Nama Direktori\n",
    "Berikut merupakan perintah untuk merubah nama dari direktori"
   ]
  },
  {
   "cell_type": "code",
   "execution_count": 12,
   "metadata": {},
   "outputs": [],
   "source": [
    "import os\n",
    "\n",
    "def main():\n",
    "    os.rename(\"modul_08\",\"submodul_08\")\n",
    "\n",
    "ifname:\"main\"\n",
    "main()"
   ]
  },
  {
   "attachments": {},
   "cell_type": "markdown",
   "metadata": {},
   "source": [
    "### Menghapus Direktori\n",
    "Berikut merupakan perintah untuk menghapus direktori yang sudah ada"
   ]
  },
  {
   "cell_type": "code",
   "execution_count": 13,
   "metadata": {},
   "outputs": [],
   "source": [
    "import os\n",
    "\n",
    "def main():\n",
    "    os.rmdir(\"submodul_08\")\n",
    "\n",
    "ifname:\"main\"\n",
    "main()"
   ]
  },
  {
   "attachments": {},
   "cell_type": "markdown",
   "metadata": {},
   "source": [
    "# Modul"
   ]
  },
  {
   "attachments": {},
   "cell_type": "markdown",
   "metadata": {},
   "source": [
    "### Perintah import"
   ]
  },
  {
   "cell_type": "code",
   "execution_count": null,
   "metadata": {},
   "outputs": [],
   "source": [
    "import Geometri2D"
   ]
  },
  {
   "attachments": {},
   "cell_type": "markdown",
   "metadata": {},
   "source": [
    "Menggunakan Modul dengan Perintah import"
   ]
  },
  {
   "cell_type": "code",
   "execution_count": null,
   "metadata": {},
   "outputs": [],
   "source": [
    "# Persegi Panjang\n",
    "\n",
    "# Mendefinisikan panjang dan lebar persegi panjang\n",
    "p = 2\n",
    "l = 4\n",
    "\n",
    "# Menghitung luas dan keliling persegi panjang\n",
    "luas = Geometri2D.LuasPersegiPanjang(p,l)\n",
    "keliling = Geometri2D.KelilingPersegiPanjang(p,l)\n",
    "\n",
    "# Menampilkan hasil\n",
    "print(\"Luas persegi panjang adalah\", luas)\n",
    "print(\"Keliling persegi panjang adalah\", keliling)"
   ]
  },
  {
   "attachments": {},
   "cell_type": "markdown",
   "metadata": {},
   "source": [
    "### Perintah from ... import ..."
   ]
  },
  {
   "attachments": {},
   "cell_type": "markdown",
   "metadata": {},
   "source": [
    "Menggunakan Modul dengan Perintah from ... import ..."
   ]
  },
  {
   "cell_type": "code",
   "execution_count": null,
   "metadata": {},
   "outputs": [],
   "source": [
    "# Luas Persegi Panjang dalam Modul Geometri2D.py\n",
    "\n",
    "from Geometri2D import LuasPersegiPanjang\n",
    "\n",
    "# Mendefinisikan panjang dan lebar persegi panjang\n",
    "p = 2\n",
    "l = 4\n",
    "\n",
    "# Menghitung luas persegi panjang\n",
    "luas = LuasPersegiPanjang(p,l)\n",
    "\n",
    "# Menampilkan hasil\n",
    "print(\"Luas persegi panjang adalah\", luas)"
   ]
  },
  {
   "attachments": {},
   "cell_type": "markdown",
   "metadata": {},
   "source": [
    "### Nama Alias Modul"
   ]
  },
  {
   "attachments": {},
   "cell_type": "markdown",
   "metadata": {},
   "source": [
    "Membuat Nama Alias"
   ]
  },
  {
   "cell_type": "code",
   "execution_count": null,
   "metadata": {},
   "outputs": [],
   "source": [
    "import Geometri2D as DuaD"
   ]
  },
  {
   "attachments": {},
   "cell_type": "markdown",
   "metadata": {},
   "source": [
    "Menggunakan Modul dengan Nama Alias"
   ]
  },
  {
   "cell_type": "code",
   "execution_count": null,
   "metadata": {},
   "outputs": [],
   "source": [
    "# Persegi Panjang\n",
    "\n",
    "# Mendefinisikan panjang dan lebar persegi panjang\n",
    "p = 2\n",
    "l = 4\n",
    "\n",
    "# Menghitung luas dan keliling persegi panjang\n",
    "luas = DuaD.LuasPersegiPanjang(p,l)\n",
    "keliling = DuaD.KelilingPersegiPanjang(p,l)\n",
    "\n",
    "# Menampilkan hasil\n",
    "print(\"Luas persegi panjang adalah\", luas)\n",
    "print(\"Keliling persegi panjang adalah\", keliling)"
   ]
  },
  {
   "attachments": {},
   "cell_type": "markdown",
   "metadata": {},
   "source": [
    "## Exercise\n",
    "1. Buatlah 1 file .txt baru pada direktori yang sama dengan Biodata.txt lalu isilah file tersebut menggunakan syntax python dan gabungkan kedua file tersebut menjadi 1\n",
    "\n",
    "2. Buatlah 1 modul dengan nama Geometri3D.py baru pada direktori yang sama dengan Geometri3D.py yang berisi fungsi beberapa volume dan luas permukaan dari bangun ruang. Cobalah menggunakan modul baru yang kalian buat seperti contoh di atas!"
   ]
  },
  {
   "cell_type": "code",
   "execution_count": 22,
   "metadata": {},
   "outputs": [],
   "source": [
    "# Make a new file of Biodata, and use append argument\n",
    "\n",
    "nama = input(\"Nama :\")\n",
    "umur = input(\"Umur :\")\n",
    "alamat = input(\"alamat :\")\n",
    "\n",
    "content = \"\\nNama: {}\\nUmur: {}\\nAlamat: {}\".format(nama,umur,alamat)\n",
    "\n",
    "file2 = open(\"Biodata new.txt\",\"a\")\n",
    "    \n",
    "print(content, file= file2)\n",
    "\n",
    "file2.close()"
   ]
  },
  {
   "cell_type": "code",
   "execution_count": 30,
   "metadata": {},
   "outputs": [],
   "source": [
    "file1 = open(\"Biodata.txt\",\"a\")\n",
    "file2 = open(\"Biodata new.txt\",\"r\")\n",
    "\n",
    "content2 = file2.read()\n",
    "\n",
    "print(content2, file = file1)\n",
    "\n",
    "file1.close()\n",
    "file2.close()"
   ]
  },
  {
   "cell_type": "code",
   "execution_count": 23,
   "metadata": {},
   "outputs": [
    {
     "name": "stdout",
     "output_type": "stream",
     "text": [
      "125\n",
      "1000\n",
      "384.84510006474966\n"
     ]
    },
    {
     "ename": "TypeError",
     "evalue": "'float' object is not callable",
     "output_type": "error",
     "traceback": [
      "\u001b[1;31m---------------------------------------------------------------------------\u001b[0m",
      "\u001b[1;31mTypeError\u001b[0m                                 Traceback (most recent call last)",
      "Cell \u001b[1;32mIn[23], line 6\u001b[0m\n\u001b[0;32m      4\u001b[0m \u001b[39mprint\u001b[39m(g3d\u001b[39m.\u001b[39mVolumeBalok(\u001b[39m5\u001b[39m,\u001b[39m10\u001b[39m,\u001b[39m20\u001b[39m))\n\u001b[0;32m      5\u001b[0m \u001b[39mprint\u001b[39m(g3d\u001b[39m.\u001b[39mVolumeTabung(\u001b[39m7\u001b[39m,\u001b[39m10\u001b[39m))\n\u001b[1;32m----> 6\u001b[0m \u001b[39mprint\u001b[39m(g3d\u001b[39m.\u001b[39;49mVolumeBola(\u001b[39m7\u001b[39;49m))\n",
      "File \u001b[1;32mc:\\Users\\hp\\pythonsy\\Project Prokom\\I0322015_Modul-08\\Geometri3D.py:22\u001b[0m, in \u001b[0;36mVolumeBola\u001b[1;34m(diameter)\u001b[0m\n\u001b[0;32m     21\u001b[0m \u001b[39mdef\u001b[39;00m \u001b[39mVolumeBola\u001b[39m(diameter:\u001b[39mfloat\u001b[39m):\n\u001b[1;32m---> 22\u001b[0m     \u001b[39mreturn\u001b[39;00m \u001b[39m4\u001b[39m\u001b[39m/\u001b[39m\u001b[39m3\u001b[39m \u001b[39m*\u001b[39m mt\u001b[39m.\u001b[39;49mpi (diameter\u001b[39m*\u001b[39;49m\u001b[39m*\u001b[39;49m\u001b[39m3\u001b[39;49m) \u001b[39m/\u001b[39m \u001b[39m8\u001b[39m\n",
      "\u001b[1;31mTypeError\u001b[0m: 'float' object is not callable"
     ]
    }
   ],
   "source": [
    "import Geometri3D as g3d\n",
    "\n",
    "print(g3d.VolumeKubus(5))\n",
    "print(g3d.VolumeBalok(5,10,20))\n",
    "print(g3d.VolumeTabung(7,10))\n",
    "print(g3d.VolumeBola(1))"
   ]
  }
 ],
 "metadata": {
  "kernelspec": {
   "display_name": "Python 3",
   "language": "python",
   "name": "python3"
  },
  "language_info": {
   "codemirror_mode": {
    "name": "ipython",
    "version": 3
   },
   "file_extension": ".py",
   "mimetype": "text/x-python",
   "name": "python",
   "nbconvert_exporter": "python",
   "pygments_lexer": "ipython3",
   "version": "3.11.2"
  },
  "orig_nbformat": 4
 },
 "nbformat": 4,
 "nbformat_minor": 2
}
